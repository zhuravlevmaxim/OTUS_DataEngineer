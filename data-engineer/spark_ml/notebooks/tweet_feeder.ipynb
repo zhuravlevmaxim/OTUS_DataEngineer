{
 "cells": [
  {
   "cell_type": "code",
   "execution_count": 1,
   "metadata": {},
   "outputs": [
    {
     "name": "stdout",
     "output_type": "stream",
     "text": [
      "Current spark version is 2.4.4\n"
     ]
    }
   ],
   "source": [
    "println(s\"Current spark version is ${spark.version}\")"
   ]
  },
  {
   "cell_type": "code",
   "execution_count": 2,
   "metadata": {},
   "outputs": [
    {
     "name": "stdout",
     "output_type": "stream",
     "text": [
      "Total tweets in file: 1600000\n"
     ]
    },
    {
     "data": {
      "text/plain": [
       "dataSchema = StructType(StructField(target,IntegerType,true), StructField(id,LongType,true), StructField(raw_timestamp,StringType,true), StructField(query_status,StringType,true), StructField(author,StringType,true), StructField(tweet,StringType,true))\n",
       "dataPath = /home/jovyan/data/training.1600000.processed.noemoticon.csv\n",
       "raw_sentiment = [tweet: string]\n"
      ]
     },
     "metadata": {},
     "output_type": "display_data"
    },
    {
     "data": {
      "text/plain": [
       "[tweet: string]"
      ]
     },
     "execution_count": 2,
     "metadata": {},
     "output_type": "execute_result"
    }
   ],
   "source": [
    "import org.apache.spark.sql.types.{StructType, StructField, IntegerType, LongType, StringType}\n",
    "\n",
    "val dataSchema = new StructType()\n",
    "    .add(\"target\", IntegerType)\n",
    "    .add(\"id\", LongType)\n",
    "    .add(\"raw_timestamp\", StringType)\n",
    "    .add(\"query_status\", StringType)\n",
    "    .add(\"author\", StringType)\n",
    "    .add(\"tweet\", StringType)\n",
    "\n",
    "    \n",
    "val dataPath= \"/home/jovyan/data/training.1600000.processed.noemoticon.csv\"\n",
    "\n",
    "val raw_sentiment = spark.read\n",
    "    .format(\"csv\")\n",
    "    .option(\"header\",false)\n",
    "    .schema(dataSchema)\n",
    "    .load(dataPath)\n",
    "    .selectExpr(\"tweet\")\n",
    "\n",
    "println(s\"Total tweets in file: ${raw_sentiment.count}\")\n"
   ]
  },
  {
   "cell_type": "code",
   "execution_count": 3,
   "metadata": {},
   "outputs": [
    {
     "name": "stdout",
     "output_type": "stream",
     "text": [
      "Streaming started!\n"
     ]
    },
    {
     "data": {
      "text/plain": [
       "timer = java.util.Timer@565b20c8\n",
       "task = $anon$1@3817e547\n"
      ]
     },
     "metadata": {},
     "output_type": "display_data"
    },
    {
     "data": {
      "text/plain": [
       "$anon$1@3817e547"
      ]
     },
     "execution_count": 3,
     "metadata": {},
     "output_type": "execute_result"
    },
    {
     "name": "stdout",
     "output_type": "stream",
     "text": [
      "2019-10-06T16:01:17.662Z - saved some data to the events stream!\n",
      "2019-10-06T16:01:21.406Z - saved some data to the events stream!\n",
      "2019-10-06T16:01:27.453Z - saved some data to the events stream!\n",
      "2019-10-06T16:01:32.343Z - saved some data to the events stream!\n",
      "2019-10-06T16:01:36.288Z - saved some data to the events stream!\n",
      "2019-10-06T16:01:40.683Z - saved some data to the events stream!\n",
      "2019-10-06T16:01:45.892Z - saved some data to the events stream!\n",
      "2019-10-06T16:01:49.439Z - saved some data to the events stream!\n",
      "2019-10-06T16:01:54.392Z - saved some data to the events stream!\n",
      "2019-10-06T16:02:05.461Z - saved some data to the events stream!\n",
      "2019-10-06T16:02:14.721Z - saved some data to the events stream!\n",
      "2019-10-06T16:02:21.024Z - saved some data to the events stream!\n",
      "2019-10-06T16:02:27.045Z - saved some data to the events stream!\n",
      "2019-10-06T16:02:34.331Z - saved some data to the events stream!\n",
      "2019-10-06T16:02:41.895Z - saved some data to the events stream!\n",
      "2019-10-06T16:02:48.716Z - saved some data to the events stream!\n",
      "2019-10-06T16:02:55.523Z - saved some data to the events stream!\n",
      "2019-10-06T16:03:02.487Z - saved some data to the events stream!\n",
      "2019-10-06T16:03:09.611Z - saved some data to the events stream!\n",
      "2019-10-06T16:03:16.490Z - saved some data to the events stream!\n",
      "2019-10-06T16:03:22.355Z - saved some data to the events stream!\n",
      "2019-10-06T16:03:25.626Z - saved some data to the events stream!\n",
      "2019-10-06T16:03:28.900Z - saved some data to the events stream!\n",
      "2019-10-06T16:03:32.221Z - saved some data to the events stream!\n",
      "2019-10-06T16:03:35.844Z - saved some data to the events stream!\n",
      "2019-10-06T16:03:39.297Z - saved some data to the events stream!\n",
      "2019-10-06T16:03:43.356Z - saved some data to the events stream!\n",
      "2019-10-06T16:03:47.030Z - saved some data to the events stream!\n",
      "2019-10-06T16:03:50.655Z - saved some data to the events stream!\n",
      "2019-10-06T16:03:54.327Z - saved some data to the events stream!\n",
      "2019-10-06T16:03:57.869Z - saved some data to the events stream!\n",
      "2019-10-06T16:04:01.612Z - saved some data to the events stream!\n",
      "2019-10-06T16:04:04.934Z - saved some data to the events stream!\n",
      "2019-10-06T16:04:08.263Z - saved some data to the events stream!\n",
      "2019-10-06T16:04:11.575Z - saved some data to the events stream!\n",
      "2019-10-06T16:04:15.802Z - saved some data to the events stream!\n",
      "2019-10-06T16:04:19.620Z - saved some data to the events stream!\n",
      "2019-10-06T16:04:23.035Z - saved some data to the events stream!\n",
      "2019-10-06T16:04:27.374Z - saved some data to the events stream!\n",
      "2019-10-06T16:04:31.017Z - saved some data to the events stream!\n",
      "2019-10-06T16:04:34.528Z - saved some data to the events stream!\n",
      "2019-10-06T16:04:37.961Z - saved some data to the events stream!\n",
      "2019-10-06T16:04:45.156Z - saved some data to the events stream!\n",
      "2019-10-06T16:04:51.728Z - saved some data to the events stream!\n",
      "2019-10-06T16:04:58.782Z - saved some data to the events stream!\n",
      "2019-10-06T16:05:05.720Z - saved some data to the events stream!\n",
      "2019-10-06T16:05:12.700Z - saved some data to the events stream!\n",
      "2019-10-06T16:05:20.079Z - saved some data to the events stream!\n",
      "2019-10-06T16:05:26.504Z - saved some data to the events stream!\n",
      "2019-10-06T16:05:33.463Z - saved some data to the events stream!\n",
      "2019-10-06T16:05:40.176Z - saved some data to the events stream!\n",
      "2019-10-06T16:05:47.378Z - saved some data to the events stream!\n",
      "2019-10-06T16:05:54.436Z - saved some data to the events stream!\n",
      "2019-10-06T16:06:01.469Z - saved some data to the events stream!\n",
      "2019-10-06T16:06:06.532Z - saved some data to the events stream!\n",
      "2019-10-06T16:06:09.769Z - saved some data to the events stream!\n",
      "2019-10-06T16:06:13.187Z - saved some data to the events stream!\n",
      "2019-10-06T16:06:16.735Z - saved some data to the events stream!\n",
      "2019-10-06T16:06:20.199Z - saved some data to the events stream!\n",
      "2019-10-06T16:06:26.074Z - saved some data to the events stream!\n",
      "2019-10-06T16:06:32.937Z - saved some data to the events stream!\n",
      "2019-10-06T16:06:40.136Z - saved some data to the events stream!\n",
      "2019-10-06T16:06:47.524Z - saved some data to the events stream!\n",
      "2019-10-06T16:06:55.023Z - saved some data to the events stream!\n",
      "2019-10-06T16:07:02.216Z - saved some data to the events stream!\n",
      "2019-10-06T16:07:08.919Z - saved some data to the events stream!\n",
      "2019-10-06T16:07:15.936Z - saved some data to the events stream!\n",
      "2019-10-06T16:07:23.210Z - saved some data to the events stream!\n",
      "2019-10-06T16:07:30.012Z - saved some data to the events stream!\n",
      "2019-10-06T16:07:36.691Z - saved some data to the events stream!\n",
      "2019-10-06T16:07:43.949Z - saved some data to the events stream!\n",
      "2019-10-06T16:07:51.119Z - saved some data to the events stream!\n",
      "2019-10-06T16:07:55.807Z - saved some data to the events stream!\n",
      "2019-10-06T16:07:59.269Z - saved some data to the events stream!\n",
      "2019-10-06T16:08:02.969Z - saved some data to the events stream!\n",
      "2019-10-06T16:08:06.770Z - saved some data to the events stream!\n",
      "2019-10-06T16:08:10.375Z - saved some data to the events stream!\n",
      "2019-10-06T16:08:14.043Z - saved some data to the events stream!\n",
      "2019-10-06T16:08:18.115Z - saved some data to the events stream!\n",
      "2019-10-06T16:08:21.739Z - saved some data to the events stream!\n",
      "2019-10-06T16:08:25.103Z - saved some data to the events stream!\n",
      "2019-10-06T16:08:28.560Z - saved some data to the events stream!\n",
      "2019-10-06T16:08:32.148Z - saved some data to the events stream!\n"
     ]
    }
   ],
   "source": [
    "import java.util.{Calendar, Timer, TimerTask}\n",
    "\n",
    "val timer = new Timer()\n",
    "\n",
    "val task = new TimerTask {\n",
    "  def run(): Unit = {\n",
    "      val data = raw_sentiment.sample(fraction=0.00001,withReplacement=true)\n",
    "      data.coalesce(1).write.format(\"json\").mode(\"append\").save(\"/home/jovyan/data/events-stream\")\n",
    "      println(s\"${Calendar.getInstance().toInstant} - saved some data to the events stream!\")\n",
    "  } \n",
    "}\n",
    "\n",
    "println(\"Streaming started!\")\n",
    "\n",
    "timer.schedule(task, 1000L, 1000L)"
   ]
  },
  {
   "cell_type": "code",
   "execution_count": 6,
   "metadata": {},
   "outputs": [
    {
     "data": {
      "text/plain": [
       "true"
      ]
     },
     "execution_count": 6,
     "metadata": {},
     "output_type": "execute_result"
    }
   ],
   "source": [
    "task.cancel()"
   ]
  },
  {
   "cell_type": "code",
   "execution_count": null,
   "metadata": {},
   "outputs": [],
   "source": []
  }
 ],
 "metadata": {
  "kernelspec": {
   "display_name": "Apache Toree - Scala",
   "language": "scala",
   "name": "apache_toree_scala"
  },
  "language_info": {
   "codemirror_mode": "text/x-scala",
   "file_extension": ".scala",
   "mimetype": "text/x-scala",
   "name": "scala",
   "pygments_lexer": "scala",
   "version": "2.11.12"
  }
 },
 "nbformat": 4,
 "nbformat_minor": 2
}
